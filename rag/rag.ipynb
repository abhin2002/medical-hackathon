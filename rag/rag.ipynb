{
 "cells": [
  {
   "cell_type": "code",
   "execution_count": 1,
   "metadata": {},
   "outputs": [],
   "source": [
    "import os\n",
    "from langchain.chains import RetrievalQA\n",
    "from langchain.document_loaders import PyPDFLoader\n",
    "from langchain.embeddings import OpenAIEmbeddings\n",
    "from langchain.llms import OpenAI\n",
    "from langchain.text_splitter import CharacterTextSplitter\n",
    "from langchain.vectorstores import Chroma"
   ]
  },
  {
   "cell_type": "code",
   "execution_count": 3,
   "metadata": {},
   "outputs": [],
   "source": [
    "import time\n",
    "\n",
    "import os\n",
    "from dotenv import load_dotenv\n",
    "\n",
    "load_dotenv()\n",
    "\n",
    "# Supress warnings\n",
    "import warnings\n",
    "warnings.filterwarnings(\"ignore\")\n"
   ]
  },
  {
   "cell_type": "code",
   "execution_count": 4,
   "metadata": {},
   "outputs": [
    {
     "name": "stdout",
     "output_type": "stream",
     "text": [
      "Loading PDF...\n"
     ]
    }
   ],
   "source": [
    "print(\"Loading PDF...\")\n",
    "loader = PyPDFLoader(\"data/first aid.pdf\")\n",
    "documents = loader.load()\n"
   ]
  },
  {
   "cell_type": "code",
   "execution_count": 5,
   "metadata": {},
   "outputs": [
    {
     "name": "stdout",
     "output_type": "stream",
     "text": [
      "Splitting documents...\n",
      "Split into 47 chunks\n",
      "Loading embeddings...\n",
      "Loading took 9.885992765426636s\n",
      "Done loading embeddings\n"
     ]
    }
   ],
   "source": [
    "split_start_time = time.time()\n",
    "# split the documents into chunks\n",
    "print(\"Splitting documents...\")\n",
    "text_splitter = CharacterTextSplitter(chunk_size=1000, chunk_overlap=0)\n",
    "texts = text_splitter.split_documents(documents)\n",
    "print(\"Split into {} chunks\".format(len(texts)))\n",
    "\n",
    "\n",
    "\n",
    "# select which embeddings we want to use\n",
    "embeddings = OpenAIEmbeddings()\n",
    "print(\"Loading embeddings...\")\n",
    "# create the vectorestore to use as the index\n",
    "db = Chroma.from_documents(texts, embeddings)\n",
    "print(\"Loading took {0}s\".format(time.time()-split_start_time))\n",
    "\n",
    "print(\"Done loading embeddings\")"
   ]
  },
  {
   "cell_type": "code",
   "execution_count": 6,
   "metadata": {},
   "outputs": [
    {
     "name": "stdout",
     "output_type": "stream",
     "text": [
      "Indexing...\n",
      "Done indexing\n",
      "Creating QA chain...\n",
      "Done creating QA chain\n"
     ]
    }
   ],
   "source": [
    "print(\"Indexing...\")\n",
    "# expose this index in a retriever interface\n",
    "retriever = db.as_retriever( \n",
    "    search_type=\"similarity\", search_kwargs={\"k\": 2}\n",
    ")\n",
    "print(\"Done indexing\")\n",
    "# create a chain to answer questions\n",
    "print(\"Creating QA chain...\")\n",
    "qa = RetrievalQA.from_chain_type(\n",
    "    llm=OpenAI(),\n",
    "    chain_type=\"map_reduce\",\n",
    "    retriever=retriever,\n",
    "    return_source_documents=True,\n",
    "    verbose=True,\n",
    ")\n",
    "print(\"Done creating QA chain\")"
   ]
  },
  {
   "cell_type": "code",
   "execution_count": 7,
   "metadata": {},
   "outputs": [
    {
     "name": "stdout",
     "output_type": "stream",
     "text": [
      "\n",
      "\n",
      "\u001b[1m> Entering new RetrievalQA chain...\u001b[0m\n",
      "\n",
      "\u001b[1m> Finished chain.\u001b[0m\n"
     ]
    }
   ],
   "source": [
    "answer = qa(\"My friend has a broken leg, what should I do?\")"
   ]
  },
  {
   "cell_type": "code",
   "execution_count": 10,
   "metadata": {},
   "outputs": [
    {
     "data": {
      "text/plain": [
       "[Document(page_content='31 | P a g e  \\n Actions  \\n\\uf0b7 Provide support to the injured area  \\n\\uf0b7 Expose the site of the injury  \\n\\uf0b7 Treat any wounds  \\n\\uf0b7 Immobilize effectively  \\n\\uf0b7 Reassure and monitor  \\n \\nSteady and support the injured part immediately, so that no movement is possible. This stops \\nfurther injury and helps to stop the bleeding . This can be done by bandages or by using splints \\n(support) where available.  \\n \\nUsing Bandages  \\n \\n\\uf0b7 Usually it is enough to use the other ( uninjured ) limb or the body of the patient as the \\nsplint  (support) . The upper limb can be supported by the body, the lower limb by the \\nother limb (Provided that also is not fractured) most fractures (except forearm) can be \\nimmobilized \\nthus.  Do not \\napply \\nbandage on \\nthe site of \\nfracture . \\n \\n\\uf0b7 The \\nbandaging should be fairly firm so that there is no movement of the fractured ends; but \\nnot too tight in which case the circulation of blood to the area will be stopped. If there is \\nfurther swelling of the injured area the bandage is too tight therefore l oosen the \\nbandages slightly.  \\n \\nUsing splints   \\nA strip of rigid material used for supporting and immobilizing bone.  \\nIt could be wood or plastic material or metal applied used as support.  \\nReasonably wide splints are better than narrow ones.  \\nThey should be lon g enough so that the joints above and below the fractured bones can be made \\nimmobile.  \\nSplints are best applied  over the clothing and better if they are w ell padded with cotton or cloth so \\nas to fit softly and snugly on the injured limb.  \\nIn an emergency spl ints can be improvised with a walking stick, an umbrella, a piece of wood, a \\nbook or even firmly folded newspaper.  \\n \\nSome common Injuries and their management  \\n \\nA. Head injury  \\nIf breathing is normal:  \\n\\uf0b7 Lay the casualty on his back with head and shoulder slightly raised by cushions.  \\n\\uf0b7 Turn the head to one side (if there is bleeding from the ear, the head should be turned \\nso that the bleeding side is down)', metadata={'page': 31, 'source': 'data/first aid.pdf'}),\n",
       " Document(page_content='33 | P a g e  \\n D. Lower arm  injury (Fracture)  \\n \\n\\uf0b7 If elbow can be bent, strap arm to the chest and \\nsupport forearm in a triangular sling.   \\n\\uf0b7 If elbow cannot be bent, strap arm and forearm on \\nthe side of body in extended position.  \\n \\n \\nActions  if sling with a splint is placed.  \\n \\n\\uf0b7 Place the forearm at right angles to the upper arm , \\nand place it across the chest, the thumb facing \\nupwards and the palm over the chest.  \\n\\uf0b7 Roll a folded  newspaper  or other  magazine  round the \\nforearm. The paper magazine should be from the \\nelbow to the fingers.  \\n\\uf0b7 Apply one bandage above the fracture and the other \\nover the wrist first around it and then as a figure of \\neight including the wrist and hand.  \\n\\uf0b7 Support the limb by a broad arm sling.  \\n \\nDental injuries  \\nDental injuries, particularly in children, are common problems seen by first aid providers.  \\n \\nGuidelines  \\nIt is not recommended for first aid providers to re -implant an avulsed tooth  \\nAvulsed teeth may be stored in milk and transported with the injured victim to a dentist as quickly as \\npossible.  \\n \\nActions  \\n  \\n\\uf0b7 First aid treatment for an avulsed tooth includes the following:  \\n\\uf0b7 Clean bleeding wound(s) with saline or tap water.  \\n\\uf0b7 Stop bleeding by applying pressure with gauze or cotton.  \\n\\uf0b7 Handle the tooth by the top (crown)  not the root; i.e., do not handle the part that is below \\nthe gum line.  \\n\\uf0b7 Place the tooth in milk, or if milk is not available, in water . \\n\\uf0b7 Have victim evaluated by dentist as soon  as possible.  \\n \\nSnakebites  \\nIn many countries, bites by venomous snakes are a serious health problem. In addition, many people \\nare extremely afraid of snakes and snakebites. Even in countries where only harmless snakes are \\nfound, people often panic after snakebite  and may possibly provide first aid measures that may be \\nharmful rather than beneficial.  \\nGuidelines  \\n\\uf0b7 Suction should not be applied to pull venom out , because it is ineffective and may be \\nharmful', metadata={'page': 33, 'source': 'data/first aid.pdf'})]"
      ]
     },
     "execution_count": 10,
     "metadata": {},
     "output_type": "execute_result"
    }
   ],
   "source": [
    "answer['result']\n"
   ]
  }
 ],
 "metadata": {
  "kernelspec": {
   "display_name": "medH",
   "language": "python",
   "name": "python3"
  },
  "language_info": {
   "codemirror_mode": {
    "name": "ipython",
    "version": 3
   },
   "file_extension": ".py",
   "mimetype": "text/x-python",
   "name": "python",
   "nbconvert_exporter": "python",
   "pygments_lexer": "ipython3",
   "version": "3.10.13"
  }
 },
 "nbformat": 4,
 "nbformat_minor": 2
}
